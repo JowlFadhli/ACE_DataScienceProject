{
 "cells": [
  {
   "cell_type": "markdown",
   "id": "98d2c46c",
   "metadata": {},
   "source": [
    "# Question 3: NLP"
   ]
  },
  {
   "cell_type": "markdown",
   "id": "027fdea2",
   "metadata": {},
   "source": [
    "Feed the following paragraph into your favourite data analytics tool, and answer the following:\n",
    "- What is the probability of the word “data” occurring in each line ?\n",
    "- What is the distribution of distinct word counts across all the lines ?\n",
    "- What is the probability of the word “analytics” occurring after the word “data” ?"
   ]
  },
  {
   "cell_type": "markdown",
   "id": "250186ad",
   "metadata": {},
   "source": [
    "### Step 1: Importing necessary library"
   ]
  },
  {
   "cell_type": "code",
   "execution_count": 1,
   "id": "81199317",
   "metadata": {},
   "outputs": [],
   "source": [
    "from nltk.tokenize import sent_tokenize, word_tokenize,MWETokenizer\n",
    "from nltk import FreqDist\n",
    "import nltk\n",
    "import string\n",
    "import re\n",
    "from collections import Counter"
   ]
  },
  {
   "cell_type": "markdown",
   "id": "49e954b8",
   "metadata": {},
   "source": [
    "### Step 2: Analyze the text and collect necessary informations "
   ]
  },
  {
   "cell_type": "code",
   "execution_count": 2,
   "id": "495044ff",
   "metadata": {},
   "outputs": [],
   "source": [
    "para_text = \"\"\"... As a term, data analytics predominantly refers to an assortment of applications, from basic business\n",
    "... intelligence (BI), reporting and online analytical processing (OLAP) to various forms of advanced\n",
    "... analytics. In that sense, it's similar in nature to business analytics, another umbrella term for\n",
    "... approaches to analyzing data -- with the difference that the latter is oriented to business uses, while\n",
    "... data analytics has a broader focus. The expansive view of the term isn't universal, though: In some \n",
    "... cases, people use data analytics specifically to mean advanced analytics, treating BI as a separate\n",
    "... category. Data analytics initiatives can help businesses increase revenues, improve operational\n",
    "... efficiency, optimize marketing campaigns and customer service efforts, respond more quickly to\n",
    "... emerging market trends and gain a competitive edge over rivals -- all with the ultimate goal of\n",
    "... boosting business performance. Depending on the particular application, the data that's analyzed\n",
    "... can consist of either historical records or new information that has been processed for real-time\n",
    "... analytics uses. In addition, it can come from a mix of internal systems and external data sources. At\n",
    "... a high level, data analytics methodologies include exploratory data analysis (EDA), which aims to find\n",
    "... patterns and relationships in data, and confirmatory data analysis (CDA), which applies statistical\n",
    "... techniques to determine whether hypotheses about a data set are true or false. EDA is often\n",
    "... compared to detective work, while CDA is akin to the work of a judge or jury during a court trial -- a\n",
    "... distinction first drawn by statistician John W. Tukey in his 1977 book Exploratory Data Analysis. Data\n",
    "... analytics can also be separated into quantitative data analysis and qualitative data analysis. The\n",
    "... former involves analysis of numerical data with quantifiable variables that can be compared or\n",
    "... measured statistically. The qualitative approach is more interpretive -- it focuses on understanding\n",
    "... the content of non-numerical data like text, images, audio and video, including common phrases,\n",
    "... themes and points of view.\"\"\"\n"
   ]
  },
  {
   "cell_type": "code",
   "execution_count": 3,
   "id": "c3af8c73",
   "metadata": {},
   "outputs": [],
   "source": [
    "new_text = para_text.replace(\"... \", \"\\n\")"
   ]
  },
  {
   "cell_type": "code",
   "execution_count": 4,
   "id": "db1d247a",
   "metadata": {},
   "outputs": [
    {
     "name": "stdout",
     "output_type": "stream",
     "text": [
      "There are  22  lines detected in the paragraph\n"
     ]
    }
   ],
   "source": [
    "nlines = new_text.count('\\n')\n",
    "print('There are ', nlines, ' lines detected in the paragraph')"
   ]
  },
  {
   "cell_type": "code",
   "execution_count": 5,
   "id": "3d78c8dc",
   "metadata": {},
   "outputs": [
    {
     "name": "stdout",
     "output_type": "stream",
     "text": [
      "There are a total of  320  words in the paragraph\n",
      "There are a total of  1728  letters in the paragraph\n"
     ]
    }
   ],
   "source": [
    "text = re.compile('\\w+').findall(new_text.lower())\n",
    "nword = Counter(text)\n",
    "nletter = Counter(''.join(text))\n",
    "sumWords = sum(nword.values())\n",
    "sumLetters = sum(nletter.values()) \n",
    "print('There are a total of ', sumWords,' words in the paragraph')\n",
    "print('There are a total of ', sumLetters,' letters in the paragraph')"
   ]
  },
  {
   "cell_type": "markdown",
   "id": "b71bce7c",
   "metadata": {},
   "source": [
    "### Step 3: Detecting the distribution of distinct word counts across all the lines"
   ]
  },
  {
   "cell_type": "code",
   "execution_count": 6,
   "id": "c76f5cb9",
   "metadata": {},
   "outputs": [
    {
     "name": "stdout",
     "output_type": "stream",
     "text": [
      "[('data', 14), ('to', 11), ('a', 10), ('of', 10), ('and', 9), ('the', 8), ('analytics', 7), ('can', 5), ('business', 4), ('that', 4), ('--', 4), ('is', 4), ('or', 4), ('analysis', 4), ('In', 3), ('in', 3), ('with', 3), ('The', 3), ('Data', 3), ('from', 2), ('advanced', 2), ('analytics,', 2), ('term', 2), ('for', 2), ('while', 2), ('has', 2), ('more', 2), ('on', 2), ('it', 2), ('which', 2), ('compared', 2), ('be', 2), ('qualitative', 2), ('As', 1), ('term,', 1), ('predominantly', 1), ('refers', 1), ('an', 1), ('assortment', 1), ('applications,', 1), ('basic', 1), ('intelligence', 1), ('(BI),', 1), ('reporting', 1), ('online', 1), ('analytical', 1), ('processing', 1), ('(OLAP)', 1), ('various', 1), ('forms', 1), ('analytics.', 1), ('sense,', 1), (\"it's\", 1), ('similar', 1), ('nature', 1), ('another', 1), ('umbrella', 1), ('approaches', 1), ('analyzing', 1), ('difference', 1), ('latter', 1), ('oriented', 1), ('uses,', 1), ('broader', 1), ('focus.', 1), ('expansive', 1), ('view', 1), (\"isn't\", 1), ('universal,', 1), ('though:', 1), ('some', 1), ('cases,', 1), ('people', 1), ('use', 1), ('specifically', 1), ('mean', 1), ('treating', 1), ('BI', 1), ('as', 1), ('separate', 1), ('category.', 1), ('initiatives', 1), ('help', 1), ('businesses', 1), ('increase', 1), ('revenues,', 1), ('improve', 1), ('operational', 1), ('efficiency,', 1), ('optimize', 1), ('marketing', 1), ('campaigns', 1), ('customer', 1), ('service', 1), ('efforts,', 1), ('respond', 1), ('quickly', 1), ('emerging', 1), ('market', 1), ('trends', 1), ('gain', 1), ('competitive', 1), ('edge', 1), ('over', 1), ('rivals', 1), ('all', 1), ('ultimate', 1), ('goal', 1), ('boosting', 1), ('performance.', 1), ('Depending', 1), ('particular', 1), ('application,', 1), (\"that's\", 1), ('analyzed', 1), ('consist', 1), ('either', 1), ('historical', 1), ('records', 1), ('new', 1), ('information', 1), ('been', 1), ('processed', 1), ('real-time', 1), ('uses.', 1), ('addition,', 1), ('come', 1), ('mix', 1), ('internal', 1), ('systems', 1), ('external', 1), ('sources.', 1), ('At', 1), ('high', 1), ('level,', 1), ('methodologies', 1), ('include', 1), ('exploratory', 1), ('(EDA),', 1), ('aims', 1), ('find', 1), ('patterns', 1), ('relationships', 1), ('data,', 1), ('confirmatory', 1), ('(CDA),', 1), ('applies', 1), ('statistical', 1), ('techniques', 1), ('determine', 1), ('whether', 1), ('hypotheses', 1), ('about', 1), ('set', 1), ('are', 1), ('true', 1), ('false.', 1), ('EDA', 1), ('often', 1), ('detective', 1), ('work,', 1), ('CDA', 1), ('akin', 1), ('work', 1), ('judge', 1), ('jury', 1), ('during', 1), ('court', 1), ('trial', 1), ('distinction', 1), ('first', 1), ('drawn', 1), ('by', 1), ('statistician', 1), ('John', 1), ('W.', 1), ('Tukey', 1), ('his', 1), ('1977', 1), ('book', 1), ('Exploratory', 1), ('Analysis.', 1), ('also', 1), ('separated', 1), ('into', 1), ('quantitative', 1), ('analysis.', 1), ('former', 1), ('involves', 1), ('numerical', 1), ('quantifiable', 1), ('variables', 1), ('measured', 1), ('statistically.', 1), ('approach', 1), ('interpretive', 1), ('focuses', 1), ('understanding', 1), ('content', 1), ('non-numerical', 1), ('like', 1), ('text,', 1), ('images,', 1), ('audio', 1), ('video,', 1), ('including', 1), ('common', 1), ('phrases,', 1), ('themes', 1), ('points', 1), ('view.', 1)]\n"
     ]
    }
   ],
   "source": [
    "words = new_text.split()\n",
    "fdist1 = FreqDist(words)\n",
    "print(fdist1.most_common())"
   ]
  },
  {
   "cell_type": "markdown",
   "id": "1dd5cf51",
   "metadata": {},
   "source": [
    "### Step 4: Finding the probability of word occurences "
   ]
  },
  {
   "cell_type": "markdown",
   "id": "2ff603c6",
   "metadata": {},
   "source": [
    "From the question, we are tasked to find the probability of:\n",
    "- the word “data” occurring in each line\n",
    "-  word “analytics” occurring after the word “data”"
   ]
  },
  {
   "cell_type": "code",
   "execution_count": 7,
   "id": "baad070d",
   "metadata": {
    "scrolled": true
   },
   "outputs": [
    {
     "name": "stdout",
     "output_type": "stream",
     "text": [
      "The frequency of the word \"data\" present in the paragrah are 18\n",
      "The frequency of the word \"data analytics\" present in the paragrah are 5\n",
      "The frequency of the word \"analytics\" present in the paragrah are 10\n",
      "The probability of the word “data” occurring in the paragraph is 0.05625\n",
      "The probability of the word “data” occurring in each line is 0.8181818181818182\n",
      "The probability of the word “analytics” occurring after the word “data”  0.5\n"
     ]
    }
   ],
   "source": [
    "data_freqcy = re.findall('(?i)data', new_text)\n",
    "data_analytics_freqcy = re.findall('(?i)data analytics', new_text)\n",
    "analytics_freqcy = re.findall('(?i)analytics', new_text)\n",
    "print('The frequency of the word \"data\" present in the paragrah are',len(data_freqcy))\n",
    "print('The frequency of the word \"data analytics\" present in the paragrah are',len(data_analytics_freqcy))\n",
    "print('The frequency of the word \"analytics\" present in the paragrah are',len(analytics_freqcy))\n",
    "\n",
    "prob_data_freqcy = len(data_freqcy)/sumWords\n",
    "prob_data_freqcy_line = len(data_freqcy)/nlines\n",
    "prob_data_analytics_freqcy = len(data_analytics_freqcy)/len(analytics_freqcy)\n",
    "\n",
    "print('The probability of the word “data” occurring in the paragraph is', prob_data_freqcy)\n",
    "print('The probability of the word “data” occurring in each line is', prob_data_freqcy_line)\n",
    "print('The probability of the word “analytics” occurring after the word “data” ', prob_data_analytics_freqcy)\n"
   ]
  },
  {
   "cell_type": "code",
   "execution_count": 8,
   "id": "687a8ba0",
   "metadata": {},
   "outputs": [
    {
     "name": "stdout",
     "output_type": "stream",
     "text": [
      "In line  1  there is  1  number of the word \"data\" present\n",
      "In line  4  there is  1  number of the word \"data\" present\n",
      "In line  5  there is  1  number of the word \"data\" present\n",
      "In line  6  there is  1  number of the word \"data\" present\n",
      "In line  10  there is  1  number of the word \"data\" present\n",
      "In line  12  there is  1  number of the word \"data\" present\n",
      "In line  13  there is  2  number of the word \"data\" present\n",
      "In line  14  there is  1  number of the word \"data\" present\n",
      "In line  15  there is  1  number of the word \"data\" present\n",
      "In line  18  there is  2  number of the word \"data\" present\n",
      "In line  19  there is  1  number of the word \"data\" present\n",
      "In line  21  there is  1  number of the word \"data\" present\n"
     ]
    }
   ],
   "source": [
    "#finding the word 'data' in each line and return the number of line the word showed up and the number it detected.\n",
    "counter = 1\n",
    "data = list(filter(None, new_text.splitlines()))\n",
    "for i in data:\n",
    "    tokens = [t for t in i.split()]\n",
    "    freqs = nltk.FreqDist(tokens)\n",
    "    for k, v in freqs.items():\n",
    "        if k == 'data':\n",
    "            print('In line ', counter, ' there is ', v ,' number of the word \"data\" present')\n",
    "    counter += 1\n"
   ]
  },
  {
   "cell_type": "markdown",
   "id": "aed71673",
   "metadata": {},
   "source": [
    "### Extra Findings "
   ]
  },
  {
   "cell_type": "code",
   "execution_count": 9,
   "id": "c130860c",
   "metadata": {},
   "outputs": [
    {
     "name": "stdout",
     "output_type": "stream",
     "text": [
      "320\n",
      "Probability of 'data': 0.00017578125\n",
      "{'as': 0.00625, 'a': 0.03125, 'term': 0.009375, 'data': 0.00017578125, 'analytics': 0.03125, 'predominantly': 0.003125, 'refers': 0.003125, 'to': 0.034375, 'an': 0.003125, 'assortment': 0.003125, 'of': 0.03125, 'applications': 0.003125, 'from': 0.00625, 'basic': 0.003125, 'business': 0.0125, 'intelligence': 0.003125, 'bi': 0.00625, 'reporting': 0.003125, 'and': 0.028125, 'online': 0.003125, 'analytical': 0.003125, 'processing': 0.003125, 'olap': 0.003125, 'various': 0.003125, 'forms': 0.003125, 'advanced': 0.00625, 'in': 0.01875, 'that': 0.015625, 'sense': 0.003125, 'it': 0.009375, 's': 0.00625, 'similar': 0.003125, 'nature': 0.003125, 'another': 0.003125, 'umbrella': 0.003125, 'for': 0.00625, 'approaches': 0.003125, 'analyzing': 0.003125, 'with': 0.009375, 'the': 0.034375, 'difference': 0.003125, 'latter': 0.003125, 'is': 0.0125, 'oriented': 0.003125, 'uses': 0.00625, 'while': 0.00625, 'has': 0.00625, 'broader': 0.003125, 'focus': 0.003125, 'expansive': 0.003125, 'view': 0.00625, 'isn': 0.003125, 't': 0.003125, 'universal': 0.003125, 'though': 0.003125, 'some': 0.003125, 'cases': 0.003125, 'people': 0.003125, 'use': 0.003125, 'specifically': 0.003125, 'mean': 0.003125, 'treating': 0.003125, 'separate': 0.003125, 'category': 0.003125, 'initiatives': 0.003125, 'can': 0.015625, 'help': 0.003125, 'businesses': 0.003125, 'increase': 0.003125, 'revenues': 0.003125, 'improve': 0.003125, 'operational': 0.003125, 'efficiency': 0.003125, 'optimize': 0.003125, 'marketing': 0.003125, 'campaigns': 0.003125, 'customer': 0.003125, 'service': 0.003125, 'efforts': 0.003125, 'respond': 0.003125, 'more': 0.00625, 'quickly': 0.003125, 'emerging': 0.003125, 'market': 0.003125, 'trends': 0.003125, 'gain': 0.003125, 'competitive': 0.003125, 'edge': 0.003125, 'over': 0.003125, 'rivals': 0.003125, 'all': 0.003125, 'ultimate': 0.003125, 'goal': 0.003125, 'boosting': 0.003125, 'performance': 0.003125, 'depending': 0.003125, 'on': 0.00625, 'particular': 0.003125, 'application': 0.003125, 'analyzed': 0.003125, 'consist': 0.003125, 'either': 0.003125, 'historical': 0.003125, 'records': 0.003125, 'or': 0.0125, 'new': 0.003125, 'information': 0.003125, 'been': 0.003125, 'processed': 0.003125, 'real': 0.003125, 'time': 0.003125, 'addition': 0.003125, 'come': 0.003125, 'mix': 0.003125, 'internal': 0.003125, 'systems': 0.003125, 'external': 0.003125, 'sources': 0.003125, 'at': 0.003125, 'high': 0.003125, 'level': 0.003125, 'methodologies': 0.003125, 'include': 0.003125, 'exploratory': 0.00625, 'analysis': 0.01875, 'eda': 0.00625, 'which': 0.00625, 'aims': 0.003125, 'find': 0.003125, 'patterns': 0.003125, 'relationships': 0.003125, 'confirmatory': 0.003125, 'cda': 0.00625, 'applies': 0.003125, 'statistical': 0.003125, 'techniques': 0.003125, 'determine': 0.003125, 'whether': 0.003125, 'hypotheses': 0.003125, 'about': 0.003125, 'set': 0.003125, 'are': 0.003125, 'true': 0.003125, 'false': 0.003125, 'often': 0.003125, 'compared': 0.00625, 'detective': 0.003125, 'work': 0.00625, 'akin': 0.003125, 'judge': 0.003125, 'jury': 0.003125, 'during': 0.003125, 'court': 0.003125, 'trial': 0.003125, 'distinction': 0.003125, 'first': 0.003125, 'drawn': 0.003125, 'by': 0.003125, 'statistician': 0.003125, 'john': 0.003125, 'w': 0.003125, 'tukey': 0.003125, 'his': 0.003125, '1977': 0.003125, 'book': 0.003125, 'also': 0.003125, 'be': 0.00625, 'separated': 0.003125, 'into': 0.003125, 'quantitative': 0.003125, 'qualitative': 0.00625, 'former': 0.003125, 'involves': 0.003125, 'numerical': 0.00625, 'quantifiable': 0.003125, 'variables': 0.003125, 'measured': 0.003125, 'statistically': 0.003125, 'approach': 0.003125, 'interpretive': 0.003125, 'focuses': 0.003125, 'understanding': 0.003125, 'content': 0.003125, 'non': 0.003125, 'like': 0.003125, 'text': 0.003125, 'images': 0.003125, 'audio': 0.003125, 'video': 0.003125, 'including': 0.003125, 'common': 0.003125, 'phrases': 0.003125, 'themes': 0.003125, 'points': 0.003125}\n"
     ]
    }
   ],
   "source": [
    "#display the probability of each word occured throughout the paragraph\n",
    "def tokenize(string):\n",
    "    return re.compile('\\w+').findall(string)\n",
    "\n",
    "def word_freq(string): \n",
    "    text = tokenize(string.lower())\n",
    "    c = Counter(text)           # count the words\n",
    "    d = Counter(''.join(text))  # count all letters\n",
    "    return (dict(c),dict(d))    # return a tuple of counted words and letters\n",
    "\n",
    "words, letters = word_freq(new_text) # count and get dicts with counts\n",
    "\n",
    "sumWords = sum(words.values())\n",
    "print(sumWords) # sum total words\n",
    "sumLetters = sum(letters.values())   # sum total letters\n",
    "\n",
    "# calc / print probability of word\n",
    "for w in dict(words):\n",
    "    if w == 'data':\n",
    "        words[w] = words[w]/sumWords\n",
    "        print(\"Probability of '{}': {}\".format(w,words[w]/sumWords))\n",
    "\n",
    "        # update the counts to propabilities:\n",
    "for w in words: \n",
    "    words[w] = words[w]/sumWords\n",
    "\n",
    "print(words) \n"
   ]
  }
 ],
 "metadata": {
  "kernelspec": {
   "display_name": "Python 3",
   "language": "python",
   "name": "python3"
  },
  "language_info": {
   "codemirror_mode": {
    "name": "ipython",
    "version": 3
   },
   "file_extension": ".py",
   "mimetype": "text/x-python",
   "name": "python",
   "nbconvert_exporter": "python",
   "pygments_lexer": "ipython3",
   "version": "3.8.8"
  }
 },
 "nbformat": 4,
 "nbformat_minor": 5
}
